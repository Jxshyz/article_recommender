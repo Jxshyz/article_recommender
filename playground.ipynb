{
 "cells": [
  {
   "cell_type": "code",
   "execution_count": 4,
   "metadata": {},
   "outputs": [],
   "source": [
    "import os\n",
    "import pandas as pd\n",
    "import gdown\n"
   ]
  },
  {
   "cell_type": "markdown",
   "metadata": {},
   "source": [
    "### __Run__ the code below __if no Folder \"Data\"__ is available\n",
    "This has to be done since Github has a constraint regarding the filesize"
   ]
  },
  {
   "cell_type": "code",
   "execution_count": 5,
   "metadata": {},
   "outputs": [
    {
     "name": "stdout",
     "output_type": "stream",
     "text": [
      "Downloading the folder from Google Drive...\n"
     ]
    },
    {
     "name": "stderr",
     "output_type": "stream",
     "text": [
      "Retrieving folder contents\n"
     ]
    },
    {
     "name": "stdout",
     "output_type": "stream",
     "text": [
      "Retrieving folder 1dGLfCgsILm_MWF5qj50Xp7bDgDTg2M7Y train\n",
      "Processing file 1SJIDOpzkLM110rMlGFUU1HPOSyFnrtqX behaviors.parquet\n",
      "Processing file 1TqpzYdaDeCQBKFQNG6sbw6gjqwwee-d0 history.parquet\n",
      "Retrieving folder 1rLcWaRH9gKsJoDWxCNaZd17Hdm05Z4Pw validation\n",
      "Processing file 1QpN8f-eCj9uoXiTFJkpl93Ur5PNqWwGb behaviors.parquet\n",
      "Processing file 11WgVj3IZ0uhHI3csPL1mVmAstJ8KZjX7 history.parquet\n",
      "Processing file 1FEYC_GQsk6braQL2OMYMiP3cfsxPisY7 articles.parquet\n"
     ]
    },
    {
     "name": "stderr",
     "output_type": "stream",
     "text": [
      "Retrieving folder contents completed\n",
      "Building directory structure\n",
      "Building directory structure completed\n",
      "Downloading...\n",
      "From: https://drive.google.com/uc?id=1SJIDOpzkLM110rMlGFUU1HPOSyFnrtqX\n",
      "To: c:\\Users\\johan\\Minnepinne\\NTNU\\5Ar\\TDT4215\\NewsRecommenderProject\\article_recommender\\Data\\train\\behaviors.parquet\n",
      "100%|██████████| 10.3M/10.3M [00:00<00:00, 14.6MB/s]\n",
      "Downloading...\n",
      "From: https://drive.google.com/uc?id=1TqpzYdaDeCQBKFQNG6sbw6gjqwwee-d0\n",
      "To: c:\\Users\\johan\\Minnepinne\\NTNU\\5Ar\\TDT4215\\NewsRecommenderProject\\article_recommender\\Data\\train\\history.parquet\n",
      "100%|██████████| 24.0M/24.0M [00:01<00:00, 14.8MB/s]\n",
      "Downloading...\n",
      "From: https://drive.google.com/uc?id=1QpN8f-eCj9uoXiTFJkpl93Ur5PNqWwGb\n",
      "To: c:\\Users\\johan\\Minnepinne\\NTNU\\5Ar\\TDT4215\\NewsRecommenderProject\\article_recommender\\Data\\validation\\behaviors.parquet\n",
      "100%|██████████| 11.3M/11.3M [00:01<00:00, 7.83MB/s]\n",
      "Downloading...\n",
      "From: https://drive.google.com/uc?id=11WgVj3IZ0uhHI3csPL1mVmAstJ8KZjX7\n",
      "To: c:\\Users\\johan\\Minnepinne\\NTNU\\5Ar\\TDT4215\\NewsRecommenderProject\\article_recommender\\Data\\validation\\history.parquet\n",
      "100%|██████████| 21.8M/21.8M [00:01<00:00, 15.2MB/s]\n",
      "Downloading...\n",
      "From: https://drive.google.com/uc?id=1FEYC_GQsk6braQL2OMYMiP3cfsxPisY7\n",
      "To: c:\\Users\\johan\\Minnepinne\\NTNU\\5Ar\\TDT4215\\NewsRecommenderProject\\article_recommender\\Data\\articles.parquet\n",
      "100%|██████████| 25.8M/25.8M [00:01<00:00, 15.7MB/s]\n",
      "Download completed\n"
     ]
    },
    {
     "data": {
      "text/plain": [
       "['Data\\\\train\\\\behaviors.parquet',\n",
       " 'Data\\\\train\\\\history.parquet',\n",
       " 'Data\\\\validation\\\\behaviors.parquet',\n",
       " 'Data\\\\validation\\\\history.parquet',\n",
       " 'Data\\\\articles.parquet']"
      ]
     },
     "execution_count": 5,
     "metadata": {},
     "output_type": "execute_result"
    }
   ],
   "source": [
    "# Google Drive folder ID\n",
    "folder_id = \"1kGBWTm-a1alJh_1pFu9K-3hYcYkNPO-g\"\n",
    "\n",
    "# Define folder name for the download\n",
    "folder_name = \"Data\"\n",
    "\n",
    "# Download the folder using gdown\n",
    "print(\"Downloading the folder from Google Drive...\")\n",
    "gdown.download_folder(f\"https://drive.google.com/drive/folders/{folder_id}\", quiet=False, output=folder_name)\n"
   ]
  },
  {
   "cell_type": "code",
   "execution_count": 6,
   "metadata": {},
   "outputs": [],
   "source": [
    "\n",
    "file1 = folder_name + \"\\\\articles.parquet\"\n",
    "file2 = folder_name + \"\\\\train\\\\behaviors.parquet\"\n",
    "file3 = folder_name + \"\\\\train\\\\history.parquet\"\n",
    "file4 = folder_name + \"\\\\validation\\\\behaviors.parquet\"\n",
    "file5 = folder_name + \"\\\\validation\\\\history.parquet\"\n",
    "\n",
    "\n",
    "\n",
    "#   -->      Datasets     <--  #\n",
    "\n",
    "# Articles\n",
    "Articles = pd.read_parquet(file1)\n",
    "\n",
    "# Test set\n",
    "Bhv_test = pd.read_parquet(file2)\n",
    "Hstr_test = pd.read_parquet(file3)\n",
    "\n",
    "# Validation set\n",
    "Bhv_val = pd.read_parquet(file4)\n",
    "Hstr_val = pd.read_parquet(file5)"
   ]
  },
  {
   "cell_type": "code",
   "execution_count": 7,
   "metadata": {},
   "outputs": [
    {
     "name": "stdout",
     "output_type": "stream",
     "text": [
      "<class 'pandas.core.frame.DataFrame'>\n",
      "RangeIndex: 232887 entries, 0 to 232886\n",
      "Data columns (total 17 columns):\n",
      " #   Column                  Non-Null Count   Dtype         \n",
      "---  ------                  --------------   -----         \n",
      " 0   impression_id           232887 non-null  uint32        \n",
      " 1   article_id              70421 non-null   float64       \n",
      " 2   impression_time         232887 non-null  datetime64[us]\n",
      " 3   read_time               232887 non-null  float32       \n",
      " 4   scroll_percentage       69098 non-null   float32       \n",
      " 5   device_type             232887 non-null  int8          \n",
      " 6   article_ids_inview      232887 non-null  object        \n",
      " 7   article_ids_clicked     232887 non-null  object        \n",
      " 8   user_id                 232887 non-null  uint32        \n",
      " 9   is_sso_user             232887 non-null  bool          \n",
      " 10  gender                  16219 non-null   float64       \n",
      " 11  postcode                4673 non-null    float64       \n",
      " 12  age                     6341 non-null    float64       \n",
      " 13  is_subscriber           232887 non-null  bool          \n",
      " 14  session_id              232887 non-null  uint32        \n",
      " 15  next_read_time          226669 non-null  float32       \n",
      " 16  next_scroll_percentage  206617 non-null  float32       \n",
      "dtypes: bool(2), datetime64[us](1), float32(4), float64(4), int8(1), object(2), uint32(3)\n",
      "memory usage: 19.3+ MB\n"
     ]
    }
   ],
   "source": [
    "#Articles.info()\n",
    "Bhv_test.info()\n",
    "#Hstr_test.describe()"
   ]
  },
  {
   "cell_type": "code",
   "execution_count": 8,
   "metadata": {},
   "outputs": [
    {
     "name": "stdout",
     "output_type": "stream",
     "text": [
      "<class 'pandas.core.frame.DataFrame'>\n",
      "RangeIndex: 15143 entries, 0 to 15142\n",
      "Data columns (total 5 columns):\n",
      " #   Column                   Non-Null Count  Dtype \n",
      "---  ------                   --------------  ----- \n",
      " 0   user_id                  15143 non-null  uint32\n",
      " 1   impression_time_fixed    15143 non-null  object\n",
      " 2   scroll_percentage_fixed  15143 non-null  object\n",
      " 3   article_id_fixed         15143 non-null  object\n",
      " 4   read_time_fixed          15143 non-null  object\n",
      "dtypes: object(4), uint32(1)\n",
      "memory usage: 532.5+ KB\n"
     ]
    }
   ],
   "source": [
    "Hstr_test.info()"
   ]
  },
  {
   "cell_type": "code",
   "execution_count": 11,
   "metadata": {},
   "outputs": [
    {
     "ename": "TypeError",
     "evalue": "unhashable type: 'numpy.ndarray'",
     "output_type": "error",
     "traceback": [
      "\u001b[1;31m---------------------------------------------------------------------------\u001b[0m",
      "\u001b[1;31mTypeError\u001b[0m                                 Traceback (most recent call last)",
      "Cell \u001b[1;32mIn[11], line 1\u001b[0m\n\u001b[1;32m----> 1\u001b[0m a \u001b[38;5;241m=\u001b[39m \u001b[43mBhv_test\u001b[49m\u001b[38;5;241;43m.\u001b[39;49m\u001b[43mdrop_duplicates\u001b[49m\u001b[43m(\u001b[49m\u001b[43m)\u001b[49m\n",
      "File \u001b[1;32mc:\\Users\\johan\\anaconda3\\anacondany\\envs\\tutorial10\\lib\\site-packages\\pandas\\core\\frame.py:6818\u001b[0m, in \u001b[0;36mDataFrame.drop_duplicates\u001b[1;34m(self, subset, keep, inplace, ignore_index)\u001b[0m\n\u001b[0;32m   6815\u001b[0m inplace \u001b[38;5;241m=\u001b[39m validate_bool_kwarg(inplace, \u001b[38;5;124m\"\u001b[39m\u001b[38;5;124minplace\u001b[39m\u001b[38;5;124m\"\u001b[39m)\n\u001b[0;32m   6816\u001b[0m ignore_index \u001b[38;5;241m=\u001b[39m validate_bool_kwarg(ignore_index, \u001b[38;5;124m\"\u001b[39m\u001b[38;5;124mignore_index\u001b[39m\u001b[38;5;124m\"\u001b[39m)\n\u001b[1;32m-> 6818\u001b[0m result \u001b[38;5;241m=\u001b[39m \u001b[38;5;28mself\u001b[39m[\u001b[38;5;241m-\u001b[39m\u001b[38;5;28;43mself\u001b[39;49m\u001b[38;5;241;43m.\u001b[39;49m\u001b[43mduplicated\u001b[49m\u001b[43m(\u001b[49m\u001b[43msubset\u001b[49m\u001b[43m,\u001b[49m\u001b[43m \u001b[49m\u001b[43mkeep\u001b[49m\u001b[38;5;241;43m=\u001b[39;49m\u001b[43mkeep\u001b[49m\u001b[43m)\u001b[49m]\n\u001b[0;32m   6819\u001b[0m \u001b[38;5;28;01mif\u001b[39;00m ignore_index:\n\u001b[0;32m   6820\u001b[0m     result\u001b[38;5;241m.\u001b[39mindex \u001b[38;5;241m=\u001b[39m default_index(\u001b[38;5;28mlen\u001b[39m(result))\n",
      "File \u001b[1;32mc:\\Users\\johan\\anaconda3\\anacondany\\envs\\tutorial10\\lib\\site-packages\\pandas\\core\\frame.py:6958\u001b[0m, in \u001b[0;36mDataFrame.duplicated\u001b[1;34m(self, subset, keep)\u001b[0m\n\u001b[0;32m   6956\u001b[0m \u001b[38;5;28;01melse\u001b[39;00m:\n\u001b[0;32m   6957\u001b[0m     vals \u001b[38;5;241m=\u001b[39m (col\u001b[38;5;241m.\u001b[39mvalues \u001b[38;5;28;01mfor\u001b[39;00m name, col \u001b[38;5;129;01min\u001b[39;00m \u001b[38;5;28mself\u001b[39m\u001b[38;5;241m.\u001b[39mitems() \u001b[38;5;28;01mif\u001b[39;00m name \u001b[38;5;129;01min\u001b[39;00m subset)\n\u001b[1;32m-> 6958\u001b[0m     labels, shape \u001b[38;5;241m=\u001b[39m \u001b[38;5;28mmap\u001b[39m(\u001b[38;5;28mlist\u001b[39m, \u001b[38;5;28;43mzip\u001b[39;49m\u001b[43m(\u001b[49m\u001b[38;5;241;43m*\u001b[39;49m\u001b[38;5;28;43mmap\u001b[39;49m\u001b[43m(\u001b[49m\u001b[43mf\u001b[49m\u001b[43m,\u001b[49m\u001b[43m \u001b[49m\u001b[43mvals\u001b[49m\u001b[43m)\u001b[49m\u001b[43m)\u001b[49m)\n\u001b[0;32m   6960\u001b[0m     ids \u001b[38;5;241m=\u001b[39m get_group_index(labels, \u001b[38;5;28mtuple\u001b[39m(shape), sort\u001b[38;5;241m=\u001b[39m\u001b[38;5;28;01mFalse\u001b[39;00m, xnull\u001b[38;5;241m=\u001b[39m\u001b[38;5;28;01mFalse\u001b[39;00m)\n\u001b[0;32m   6961\u001b[0m     result \u001b[38;5;241m=\u001b[39m \u001b[38;5;28mself\u001b[39m\u001b[38;5;241m.\u001b[39m_constructor_sliced(duplicated(ids, keep), index\u001b[38;5;241m=\u001b[39m\u001b[38;5;28mself\u001b[39m\u001b[38;5;241m.\u001b[39mindex)\n",
      "File \u001b[1;32mc:\\Users\\johan\\anaconda3\\anacondany\\envs\\tutorial10\\lib\\site-packages\\pandas\\core\\frame.py:6926\u001b[0m, in \u001b[0;36mDataFrame.duplicated.<locals>.f\u001b[1;34m(vals)\u001b[0m\n\u001b[0;32m   6925\u001b[0m \u001b[38;5;28;01mdef\u001b[39;00m\u001b[38;5;250m \u001b[39m\u001b[38;5;21mf\u001b[39m(vals) \u001b[38;5;241m-\u001b[39m\u001b[38;5;241m>\u001b[39m \u001b[38;5;28mtuple\u001b[39m[np\u001b[38;5;241m.\u001b[39mndarray, \u001b[38;5;28mint\u001b[39m]:\n\u001b[1;32m-> 6926\u001b[0m     labels, shape \u001b[38;5;241m=\u001b[39m \u001b[43malgorithms\u001b[49m\u001b[38;5;241;43m.\u001b[39;49m\u001b[43mfactorize\u001b[49m\u001b[43m(\u001b[49m\u001b[43mvals\u001b[49m\u001b[43m,\u001b[49m\u001b[43m \u001b[49m\u001b[43msize_hint\u001b[49m\u001b[38;5;241;43m=\u001b[39;49m\u001b[38;5;28;43mlen\u001b[39;49m\u001b[43m(\u001b[49m\u001b[38;5;28;43mself\u001b[39;49m\u001b[43m)\u001b[49m\u001b[43m)\u001b[49m\n\u001b[0;32m   6927\u001b[0m     \u001b[38;5;28;01mreturn\u001b[39;00m labels\u001b[38;5;241m.\u001b[39mastype(\u001b[38;5;124m\"\u001b[39m\u001b[38;5;124mi8\u001b[39m\u001b[38;5;124m\"\u001b[39m, copy\u001b[38;5;241m=\u001b[39m\u001b[38;5;28;01mFalse\u001b[39;00m), \u001b[38;5;28mlen\u001b[39m(shape)\n",
      "File \u001b[1;32mc:\\Users\\johan\\anaconda3\\anacondany\\envs\\tutorial10\\lib\\site-packages\\pandas\\core\\algorithms.py:795\u001b[0m, in \u001b[0;36mfactorize\u001b[1;34m(values, sort, use_na_sentinel, size_hint)\u001b[0m\n\u001b[0;32m    792\u001b[0m             \u001b[38;5;66;03m# Don't modify (potentially user-provided) array\u001b[39;00m\n\u001b[0;32m    793\u001b[0m             values \u001b[38;5;241m=\u001b[39m np\u001b[38;5;241m.\u001b[39mwhere(null_mask, na_value, values)\n\u001b[1;32m--> 795\u001b[0m     codes, uniques \u001b[38;5;241m=\u001b[39m \u001b[43mfactorize_array\u001b[49m\u001b[43m(\u001b[49m\n\u001b[0;32m    796\u001b[0m \u001b[43m        \u001b[49m\u001b[43mvalues\u001b[49m\u001b[43m,\u001b[49m\n\u001b[0;32m    797\u001b[0m \u001b[43m        \u001b[49m\u001b[43muse_na_sentinel\u001b[49m\u001b[38;5;241;43m=\u001b[39;49m\u001b[43muse_na_sentinel\u001b[49m\u001b[43m,\u001b[49m\n\u001b[0;32m    798\u001b[0m \u001b[43m        \u001b[49m\u001b[43msize_hint\u001b[49m\u001b[38;5;241;43m=\u001b[39;49m\u001b[43msize_hint\u001b[49m\u001b[43m,\u001b[49m\n\u001b[0;32m    799\u001b[0m \u001b[43m    \u001b[49m\u001b[43m)\u001b[49m\n\u001b[0;32m    801\u001b[0m \u001b[38;5;28;01mif\u001b[39;00m sort \u001b[38;5;129;01mand\u001b[39;00m \u001b[38;5;28mlen\u001b[39m(uniques) \u001b[38;5;241m>\u001b[39m \u001b[38;5;241m0\u001b[39m:\n\u001b[0;32m    802\u001b[0m     uniques, codes \u001b[38;5;241m=\u001b[39m safe_sort(\n\u001b[0;32m    803\u001b[0m         uniques,\n\u001b[0;32m    804\u001b[0m         codes,\n\u001b[1;32m   (...)\u001b[0m\n\u001b[0;32m    807\u001b[0m         verify\u001b[38;5;241m=\u001b[39m\u001b[38;5;28;01mFalse\u001b[39;00m,\n\u001b[0;32m    808\u001b[0m     )\n",
      "File \u001b[1;32mc:\\Users\\johan\\anaconda3\\anacondany\\envs\\tutorial10\\lib\\site-packages\\pandas\\core\\algorithms.py:595\u001b[0m, in \u001b[0;36mfactorize_array\u001b[1;34m(values, use_na_sentinel, size_hint, na_value, mask)\u001b[0m\n\u001b[0;32m    592\u001b[0m hash_klass, values \u001b[38;5;241m=\u001b[39m _get_hashtable_algo(values)\n\u001b[0;32m    594\u001b[0m table \u001b[38;5;241m=\u001b[39m hash_klass(size_hint \u001b[38;5;129;01mor\u001b[39;00m \u001b[38;5;28mlen\u001b[39m(values))\n\u001b[1;32m--> 595\u001b[0m uniques, codes \u001b[38;5;241m=\u001b[39m \u001b[43mtable\u001b[49m\u001b[38;5;241;43m.\u001b[39;49m\u001b[43mfactorize\u001b[49m\u001b[43m(\u001b[49m\n\u001b[0;32m    596\u001b[0m \u001b[43m    \u001b[49m\u001b[43mvalues\u001b[49m\u001b[43m,\u001b[49m\n\u001b[0;32m    597\u001b[0m \u001b[43m    \u001b[49m\u001b[43mna_sentinel\u001b[49m\u001b[38;5;241;43m=\u001b[39;49m\u001b[38;5;241;43m-\u001b[39;49m\u001b[38;5;241;43m1\u001b[39;49m\u001b[43m,\u001b[49m\n\u001b[0;32m    598\u001b[0m \u001b[43m    \u001b[49m\u001b[43mna_value\u001b[49m\u001b[38;5;241;43m=\u001b[39;49m\u001b[43mna_value\u001b[49m\u001b[43m,\u001b[49m\n\u001b[0;32m    599\u001b[0m \u001b[43m    \u001b[49m\u001b[43mmask\u001b[49m\u001b[38;5;241;43m=\u001b[39;49m\u001b[43mmask\u001b[49m\u001b[43m,\u001b[49m\n\u001b[0;32m    600\u001b[0m \u001b[43m    \u001b[49m\u001b[43mignore_na\u001b[49m\u001b[38;5;241;43m=\u001b[39;49m\u001b[43muse_na_sentinel\u001b[49m\u001b[43m,\u001b[49m\n\u001b[0;32m    601\u001b[0m \u001b[43m\u001b[49m\u001b[43m)\u001b[49m\n\u001b[0;32m    603\u001b[0m \u001b[38;5;66;03m# re-cast e.g. i8->dt64/td64, uint8->bool\u001b[39;00m\n\u001b[0;32m    604\u001b[0m uniques \u001b[38;5;241m=\u001b[39m _reconstruct_data(uniques, original\u001b[38;5;241m.\u001b[39mdtype, original)\n",
      "File \u001b[1;32mpandas\\\\_libs\\\\hashtable_class_helper.pxi:7281\u001b[0m, in \u001b[0;36mpandas._libs.hashtable.PyObjectHashTable.factorize\u001b[1;34m()\u001b[0m\n",
      "File \u001b[1;32mpandas\\\\_libs\\\\hashtable_class_helper.pxi:7195\u001b[0m, in \u001b[0;36mpandas._libs.hashtable.PyObjectHashTable._unique\u001b[1;34m()\u001b[0m\n",
      "\u001b[1;31mTypeError\u001b[0m: unhashable type: 'numpy.ndarray'"
     ]
    }
   ],
   "source": [
    "a = Bhv_test.drop_duplicates()"
   ]
  },
  {
   "cell_type": "code",
   "execution_count": null,
   "metadata": {},
   "outputs": [],
   "source": []
  },
  {
   "cell_type": "code",
   "execution_count": null,
   "metadata": {},
   "outputs": [],
   "source": []
  },
  {
   "cell_type": "code",
   "execution_count": 9,
   "metadata": {},
   "outputs": [],
   "source": [
    "similar_id = pd.merge(Hstr_test, Bhv_test, on='user_id', how='inner')"
   ]
  },
  {
   "cell_type": "code",
   "execution_count": 10,
   "metadata": {},
   "outputs": [
    {
     "name": "stdout",
     "output_type": "stream",
     "text": [
      "<class 'pandas.core.frame.DataFrame'>\n",
      "RangeIndex: 232887 entries, 0 to 232886\n",
      "Data columns (total 21 columns):\n",
      " #   Column                   Non-Null Count   Dtype         \n",
      "---  ------                   --------------   -----         \n",
      " 0   user_id                  232887 non-null  uint32        \n",
      " 1   impression_time_fixed    232887 non-null  object        \n",
      " 2   scroll_percentage_fixed  232887 non-null  object        \n",
      " 3   article_id_fixed         232887 non-null  object        \n",
      " 4   read_time_fixed          232887 non-null  object        \n",
      " 5   impression_id            232887 non-null  uint32        \n",
      " 6   article_id               70421 non-null   float64       \n",
      " 7   impression_time          232887 non-null  datetime64[us]\n",
      " 8   read_time                232887 non-null  float32       \n",
      " 9   scroll_percentage        69098 non-null   float32       \n",
      " 10  device_type              232887 non-null  int8          \n",
      " 11  article_ids_inview       232887 non-null  object        \n",
      " 12  article_ids_clicked      232887 non-null  object        \n",
      " 13  is_sso_user              232887 non-null  bool          \n",
      " 14  gender                   16219 non-null   float64       \n",
      " 15  postcode                 4673 non-null    float64       \n",
      " 16  age                      6341 non-null    float64       \n",
      " 17  is_subscriber            232887 non-null  bool          \n",
      " 18  session_id               232887 non-null  uint32        \n",
      " 19  next_read_time           226669 non-null  float32       \n",
      " 20  next_scroll_percentage   206617 non-null  float32       \n",
      "dtypes: bool(2), datetime64[us](1), float32(4), float64(4), int8(1), object(6), uint32(3)\n",
      "memory usage: 26.4+ MB\n"
     ]
    }
   ],
   "source": [
    "similar_id.info()"
   ]
  },
  {
   "cell_type": "code",
   "execution_count": null,
   "metadata": {},
   "outputs": [],
   "source": [
    "# Playing around with articles content\n",
    "\n",
    "# # Display first few rows\n",
    "# print(articles.head())\n",
    "\n",
    "# # Get DataFrame info (column types, non-null counts, memory usage)\n",
    "# print(articles.info())\n",
    "\n",
    "# # Get summary statistics for numerical columns\n",
    "# print(articles.describe())\n",
    "\n",
    "# # Show column names\n",
    "# print(articles.columns)\n",
    "\n",
    "# # Show index details\n",
    "# print(articles.index)\n",
    "\n",
    "# # Check data types of each column\n",
    "# print(articles.dtypes)\n",
    "\n",
    "# # Check for missing values\n",
    "# print(articles.isnull().sum())\n",
    "\n",
    "# # Display shape (rows, columns)\n",
    "# print(articles.shape)\n",
    "\n",
    "\n",
    "# print(articles[[\"article_id\", \"total_read_time\"]].sort_values(by=\"total_read_time\", ascending=False))\n",
    "# print(articles[[\"article_id\", \"total_pageviews\"]].sort_values(by=\"total_pageviews\", ascending=False))\n",
    "\n",
    "# print(articles[\"body\"][0])\n",
    "\n",
    "# print(articles[\"total_pageviews\"].isna().sum())\n",
    "# print(articles[\"total_read_time\"].isna().head())\n",
    "# pd.set_option(\"display.max_columns\", None)\n",
    "# print(articles[articles[\"total_pageviews\"].notna()].head())\n",
    "# print(len(articles))\n",
    "\n",
    "# print(articles[\"article_type\"].unique())\n",
    "\n",
    "# example_articles = articles.drop_duplicates(subset=\"article_type\").loc[:, [\"article_type\", \"url\"]]\n",
    "# print(example_articles)\n",
    "\n",
    "# #   Column              Non-Null Count  Dtype\n",
    "# ---  ------              --------------  -----\n",
    "#  0   article_id          20738 non-null  int32\n",
    "#  1   title               20738 non-null  object\n",
    "#  2   subtitle            20738 non-null  object\n",
    "#  3   last_modified_time  20738 non-null  datetime64[us]\n",
    "#  4   premium             20738 non-null  bool\n",
    "#  5   body                20738 non-null  object\n",
    "#  6   published_time      20738 non-null  datetime64[us]\n",
    "#  7   image_ids           18860 non-null  object\n",
    "#  8   article_type        20738 non-null  object\n",
    "#  9   url                 20738 non-null  object\n",
    "#  10  ner_clusters        20738 non-null  object\n",
    "#  11  entity_groups       20738 non-null  object\n",
    "#  12  topics              20738 non-null  object\n",
    "#  13  category            20738 non-null  int16\n",
    "#  14  subcategory         20738 non-null  object\n",
    "#  15  category_str        20738 non-null  object\n",
    "#  16  total_inviews       9968 non-null   float64\n",
    "#  17  total_pageviews     9856 non-null   float64\n",
    "#  18  total_read_time     9856 non-null   float32\n",
    "#  19  sentiment_score     20738 non-null  float32\n",
    "#  20  sentiment_label     20738 non-null  object\n"
   ]
  }
 ],
 "metadata": {
  "kernelspec": {
   "display_name": "Python 3",
   "language": "python",
   "name": "python3"
  },
  "language_info": {
   "codemirror_mode": {
    "name": "ipython",
    "version": 3
   },
   "file_extension": ".py",
   "mimetype": "text/x-python",
   "name": "python",
   "nbconvert_exporter": "python",
   "pygments_lexer": "ipython3",
   "version": "3.10.13"
  }
 },
 "nbformat": 4,
 "nbformat_minor": 2
}
